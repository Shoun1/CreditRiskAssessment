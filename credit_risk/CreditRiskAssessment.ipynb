{
 "cells": [
  {
   "cell_type": "code",
   "execution_count": 2,
   "id": "1f72e276-2d69-40ed-929d-5ba4a238f150",
   "metadata": {},
   "outputs": [],
   "source": [
    "import pandas as pd\n",
    "import numpy as np\n",
    "import seaborn as sns\n",
    "import matplotlib.pyplot as plt\n",
    "from sklearn.model_selection import train_test_split\n",
    "from sklearn.tree import DecisionTreeClassifier\n",
    "from sklearn.tree import plot_tree\n",
    "from sklearn.metrics import accuracy_score,classification_report\n",
    "df = pd.read_csv('credit_risk_dataset.csv')"
   ]
  },
  {
   "cell_type": "code",
   "execution_count": 3,
   "id": "a96362d8-abd4-4cef-81e3-b7d5737b0d40",
   "metadata": {},
   "outputs": [
    {
     "data": {
      "text/html": [
       "<div>\n",
       "<style scoped>\n",
       "    .dataframe tbody tr th:only-of-type {\n",
       "        vertical-align: middle;\n",
       "    }\n",
       "\n",
       "    .dataframe tbody tr th {\n",
       "        vertical-align: top;\n",
       "    }\n",
       "\n",
       "    .dataframe thead th {\n",
       "        text-align: right;\n",
       "    }\n",
       "</style>\n",
       "<table border=\"1\" class=\"dataframe\">\n",
       "  <thead>\n",
       "    <tr style=\"text-align: right;\">\n",
       "      <th></th>\n",
       "      <th>person_age</th>\n",
       "      <th>person_income</th>\n",
       "      <th>person_home_ownership</th>\n",
       "      <th>person_emp_length</th>\n",
       "      <th>loan_intent</th>\n",
       "      <th>loan_grade</th>\n",
       "      <th>loan_amnt</th>\n",
       "      <th>loan_int_rate</th>\n",
       "      <th>loan_status</th>\n",
       "      <th>loan_percent_income</th>\n",
       "      <th>cb_person_default_on_file</th>\n",
       "      <th>cb_person_cred_hist_length</th>\n",
       "    </tr>\n",
       "  </thead>\n",
       "  <tbody>\n",
       "    <tr>\n",
       "      <th>0</th>\n",
       "      <td>22</td>\n",
       "      <td>59000</td>\n",
       "      <td>RENT</td>\n",
       "      <td>123.0</td>\n",
       "      <td>PERSONAL</td>\n",
       "      <td>D</td>\n",
       "      <td>35000</td>\n",
       "      <td>16.02</td>\n",
       "      <td>1</td>\n",
       "      <td>0.59</td>\n",
       "      <td>Y</td>\n",
       "      <td>3</td>\n",
       "    </tr>\n",
       "    <tr>\n",
       "      <th>1</th>\n",
       "      <td>21</td>\n",
       "      <td>9600</td>\n",
       "      <td>OWN</td>\n",
       "      <td>5.0</td>\n",
       "      <td>EDUCATION</td>\n",
       "      <td>B</td>\n",
       "      <td>1000</td>\n",
       "      <td>11.14</td>\n",
       "      <td>0</td>\n",
       "      <td>0.10</td>\n",
       "      <td>N</td>\n",
       "      <td>2</td>\n",
       "    </tr>\n",
       "    <tr>\n",
       "      <th>2</th>\n",
       "      <td>25</td>\n",
       "      <td>9600</td>\n",
       "      <td>MORTGAGE</td>\n",
       "      <td>1.0</td>\n",
       "      <td>MEDICAL</td>\n",
       "      <td>C</td>\n",
       "      <td>5500</td>\n",
       "      <td>12.87</td>\n",
       "      <td>1</td>\n",
       "      <td>0.57</td>\n",
       "      <td>N</td>\n",
       "      <td>3</td>\n",
       "    </tr>\n",
       "    <tr>\n",
       "      <th>3</th>\n",
       "      <td>23</td>\n",
       "      <td>65500</td>\n",
       "      <td>RENT</td>\n",
       "      <td>4.0</td>\n",
       "      <td>MEDICAL</td>\n",
       "      <td>C</td>\n",
       "      <td>35000</td>\n",
       "      <td>15.23</td>\n",
       "      <td>1</td>\n",
       "      <td>0.53</td>\n",
       "      <td>N</td>\n",
       "      <td>2</td>\n",
       "    </tr>\n",
       "    <tr>\n",
       "      <th>4</th>\n",
       "      <td>24</td>\n",
       "      <td>54400</td>\n",
       "      <td>RENT</td>\n",
       "      <td>8.0</td>\n",
       "      <td>MEDICAL</td>\n",
       "      <td>C</td>\n",
       "      <td>35000</td>\n",
       "      <td>14.27</td>\n",
       "      <td>1</td>\n",
       "      <td>0.55</td>\n",
       "      <td>Y</td>\n",
       "      <td>4</td>\n",
       "    </tr>\n",
       "  </tbody>\n",
       "</table>\n",
       "</div>"
      ],
      "text/plain": [
       "   person_age  person_income person_home_ownership  person_emp_length  \\\n",
       "0          22          59000                  RENT              123.0   \n",
       "1          21           9600                   OWN                5.0   \n",
       "2          25           9600              MORTGAGE                1.0   \n",
       "3          23          65500                  RENT                4.0   \n",
       "4          24          54400                  RENT                8.0   \n",
       "\n",
       "  loan_intent loan_grade  loan_amnt  loan_int_rate  loan_status  \\\n",
       "0    PERSONAL          D      35000          16.02            1   \n",
       "1   EDUCATION          B       1000          11.14            0   \n",
       "2     MEDICAL          C       5500          12.87            1   \n",
       "3     MEDICAL          C      35000          15.23            1   \n",
       "4     MEDICAL          C      35000          14.27            1   \n",
       "\n",
       "   loan_percent_income cb_person_default_on_file  cb_person_cred_hist_length  \n",
       "0                 0.59                         Y                           3  \n",
       "1                 0.10                         N                           2  \n",
       "2                 0.57                         N                           3  \n",
       "3                 0.53                         N                           2  \n",
       "4                 0.55                         Y                           4  "
      ]
     },
     "execution_count": 3,
     "metadata": {},
     "output_type": "execute_result"
    }
   ],
   "source": [
    "df.head()"
   ]
  },
  {
   "cell_type": "code",
   "execution_count": 3,
   "id": "cbe08262-1899-4cf9-b623-0a37ca682a6a",
   "metadata": {},
   "outputs": [
    {
     "name": "stdout",
     "output_type": "stream",
     "text": [
      "Number of columns: 12\n",
      "Index(['person_age', 'person_income', 'person_home_ownership',\n",
      "       'person_emp_length', 'loan_intent', 'loan_grade', 'loan_amnt',\n",
      "       'loan_int_rate', 'loan_status', 'loan_percent_income',\n",
      "       'cb_person_default_on_file', 'cb_person_cred_hist_length'],\n",
      "      dtype='object')\n"
     ]
    }
   ],
   "source": [
    "print(\"Number of columns: {}\".format(len(df.columns.tolist())))\n",
    "print(df.columns)"
   ]
  },
  {
   "cell_type": "code",
   "execution_count": 4,
   "id": "fbc96597-8b2f-48cc-ba81-9cf01b87ecb9",
   "metadata": {},
   "outputs": [
    {
     "name": "stdout",
     "output_type": "stream",
     "text": [
      "<class 'pandas.core.frame.DataFrame'>\n",
      "RangeIndex: 32581 entries, 0 to 32580\n",
      "Data columns (total 12 columns):\n",
      " #   Column                      Non-Null Count  Dtype  \n",
      "---  ------                      --------------  -----  \n",
      " 0   person_age                  32581 non-null  int64  \n",
      " 1   person_income               32581 non-null  int64  \n",
      " 2   person_home_ownership       32581 non-null  object \n",
      " 3   person_emp_length           31686 non-null  float64\n",
      " 4   loan_intent                 32581 non-null  object \n",
      " 5   loan_grade                  32581 non-null  object \n",
      " 6   loan_amnt                   32581 non-null  int64  \n",
      " 7   loan_int_rate               29465 non-null  float64\n",
      " 8   loan_status                 32581 non-null  int64  \n",
      " 9   loan_percent_income         32581 non-null  float64\n",
      " 10  cb_person_default_on_file   32581 non-null  object \n",
      " 11  cb_person_cred_hist_length  32581 non-null  int64  \n",
      "dtypes: float64(3), int64(5), object(4)\n",
      "memory usage: 3.0+ MB\n"
     ]
    }
   ],
   "source": [
    "df.info()"
   ]
  },
  {
   "cell_type": "code",
   "execution_count": 5,
   "id": "6c784a55-e0c2-428b-ad3d-23377aacfd94",
   "metadata": {},
   "outputs": [
    {
     "data": {
      "text/plain": [
       "(32581, 12)"
      ]
     },
     "execution_count": 5,
     "metadata": {},
     "output_type": "execute_result"
    }
   ],
   "source": [
    "df.shape"
   ]
  },
  {
   "cell_type": "code",
   "execution_count": 6,
   "id": "16ddbbfc-8687-4ebb-9fef-041983910643",
   "metadata": {},
   "outputs": [
    {
     "data": {
      "text/html": [
       "<div>\n",
       "<style scoped>\n",
       "    .dataframe tbody tr th:only-of-type {\n",
       "        vertical-align: middle;\n",
       "    }\n",
       "\n",
       "    .dataframe tbody tr th {\n",
       "        vertical-align: top;\n",
       "    }\n",
       "\n",
       "    .dataframe thead th {\n",
       "        text-align: right;\n",
       "    }\n",
       "</style>\n",
       "<table border=\"1\" class=\"dataframe\">\n",
       "  <thead>\n",
       "    <tr style=\"text-align: right;\">\n",
       "      <th></th>\n",
       "      <th>person_age</th>\n",
       "      <th>person_income</th>\n",
       "      <th>person_emp_length</th>\n",
       "      <th>loan_amnt</th>\n",
       "      <th>loan_int_rate</th>\n",
       "      <th>loan_status</th>\n",
       "      <th>loan_percent_income</th>\n",
       "      <th>cb_person_cred_hist_length</th>\n",
       "    </tr>\n",
       "  </thead>\n",
       "  <tbody>\n",
       "    <tr>\n",
       "      <th>count</th>\n",
       "      <td>32581.000000</td>\n",
       "      <td>3.258100e+04</td>\n",
       "      <td>31686.000000</td>\n",
       "      <td>32581.000000</td>\n",
       "      <td>29465.000000</td>\n",
       "      <td>32581.000000</td>\n",
       "      <td>32581.000000</td>\n",
       "      <td>32581.000000</td>\n",
       "    </tr>\n",
       "    <tr>\n",
       "      <th>mean</th>\n",
       "      <td>27.734600</td>\n",
       "      <td>6.607485e+04</td>\n",
       "      <td>4.789686</td>\n",
       "      <td>9589.371106</td>\n",
       "      <td>11.011695</td>\n",
       "      <td>0.218164</td>\n",
       "      <td>0.170203</td>\n",
       "      <td>5.804211</td>\n",
       "    </tr>\n",
       "    <tr>\n",
       "      <th>std</th>\n",
       "      <td>6.348078</td>\n",
       "      <td>6.198312e+04</td>\n",
       "      <td>4.142630</td>\n",
       "      <td>6322.086646</td>\n",
       "      <td>3.240459</td>\n",
       "      <td>0.413006</td>\n",
       "      <td>0.106782</td>\n",
       "      <td>4.055001</td>\n",
       "    </tr>\n",
       "    <tr>\n",
       "      <th>min</th>\n",
       "      <td>20.000000</td>\n",
       "      <td>4.000000e+03</td>\n",
       "      <td>0.000000</td>\n",
       "      <td>500.000000</td>\n",
       "      <td>5.420000</td>\n",
       "      <td>0.000000</td>\n",
       "      <td>0.000000</td>\n",
       "      <td>2.000000</td>\n",
       "    </tr>\n",
       "    <tr>\n",
       "      <th>25%</th>\n",
       "      <td>23.000000</td>\n",
       "      <td>3.850000e+04</td>\n",
       "      <td>2.000000</td>\n",
       "      <td>5000.000000</td>\n",
       "      <td>7.900000</td>\n",
       "      <td>0.000000</td>\n",
       "      <td>0.090000</td>\n",
       "      <td>3.000000</td>\n",
       "    </tr>\n",
       "    <tr>\n",
       "      <th>50%</th>\n",
       "      <td>26.000000</td>\n",
       "      <td>5.500000e+04</td>\n",
       "      <td>4.000000</td>\n",
       "      <td>8000.000000</td>\n",
       "      <td>10.990000</td>\n",
       "      <td>0.000000</td>\n",
       "      <td>0.150000</td>\n",
       "      <td>4.000000</td>\n",
       "    </tr>\n",
       "    <tr>\n",
       "      <th>75%</th>\n",
       "      <td>30.000000</td>\n",
       "      <td>7.920000e+04</td>\n",
       "      <td>7.000000</td>\n",
       "      <td>12200.000000</td>\n",
       "      <td>13.470000</td>\n",
       "      <td>0.000000</td>\n",
       "      <td>0.230000</td>\n",
       "      <td>8.000000</td>\n",
       "    </tr>\n",
       "    <tr>\n",
       "      <th>max</th>\n",
       "      <td>144.000000</td>\n",
       "      <td>6.000000e+06</td>\n",
       "      <td>123.000000</td>\n",
       "      <td>35000.000000</td>\n",
       "      <td>23.220000</td>\n",
       "      <td>1.000000</td>\n",
       "      <td>0.830000</td>\n",
       "      <td>30.000000</td>\n",
       "    </tr>\n",
       "  </tbody>\n",
       "</table>\n",
       "</div>"
      ],
      "text/plain": [
       "         person_age  person_income  person_emp_length     loan_amnt  \\\n",
       "count  32581.000000   3.258100e+04       31686.000000  32581.000000   \n",
       "mean      27.734600   6.607485e+04           4.789686   9589.371106   \n",
       "std        6.348078   6.198312e+04           4.142630   6322.086646   \n",
       "min       20.000000   4.000000e+03           0.000000    500.000000   \n",
       "25%       23.000000   3.850000e+04           2.000000   5000.000000   \n",
       "50%       26.000000   5.500000e+04           4.000000   8000.000000   \n",
       "75%       30.000000   7.920000e+04           7.000000  12200.000000   \n",
       "max      144.000000   6.000000e+06         123.000000  35000.000000   \n",
       "\n",
       "       loan_int_rate   loan_status  loan_percent_income  \\\n",
       "count   29465.000000  32581.000000         32581.000000   \n",
       "mean       11.011695      0.218164             0.170203   \n",
       "std         3.240459      0.413006             0.106782   \n",
       "min         5.420000      0.000000             0.000000   \n",
       "25%         7.900000      0.000000             0.090000   \n",
       "50%        10.990000      0.000000             0.150000   \n",
       "75%        13.470000      0.000000             0.230000   \n",
       "max        23.220000      1.000000             0.830000   \n",
       "\n",
       "       cb_person_cred_hist_length  \n",
       "count                32581.000000  \n",
       "mean                     5.804211  \n",
       "std                      4.055001  \n",
       "min                      2.000000  \n",
       "25%                      3.000000  \n",
       "50%                      4.000000  \n",
       "75%                      8.000000  \n",
       "max                     30.000000  "
      ]
     },
     "execution_count": 6,
     "metadata": {},
     "output_type": "execute_result"
    }
   ],
   "source": [
    "df.describe()\n",
    "#df.describe(include=['int64','float64'])"
   ]
  },
  {
   "cell_type": "code",
   "execution_count": 4,
   "id": "31b9aa7e-b3a8-474c-86db-b29e18882000",
   "metadata": {},
   "outputs": [
    {
     "data": {
      "text/plain": [
       "person_home_ownership        4\n",
       "loan_intent                  6\n",
       "loan_grade                   7\n",
       "cb_person_default_on_file    2\n",
       "dtype: int64"
      ]
     },
     "execution_count": 4,
     "metadata": {},
     "output_type": "execute_result"
    }
   ],
   "source": [
    "cat_col = [col for col in df.columns if df[col].dtype =='object']\n",
    "cat_col\n",
    "df[cat_col].nunique()"
   ]
  },
  {
   "cell_type": "code",
   "execution_count": 8,
   "id": "33070897-3050-4650-a1a8-d38f00f3fd89",
   "metadata": {},
   "outputs": [
    {
     "name": "stdout",
     "output_type": "stream",
     "text": [
      "person_home_ownership\n",
      "RENT        16446\n",
      "MORTGAGE    13444\n",
      "OWN          2584\n",
      "OTHER         107\n",
      "Name: count, dtype: int64\n",
      "loan_intent\n",
      "EDUCATION            6453\n",
      "MEDICAL              6071\n",
      "VENTURE              5719\n",
      "PERSONAL             5521\n",
      "DEBTCONSOLIDATION    5212\n",
      "HOMEIMPROVEMENT      3605\n",
      "Name: count, dtype: int64\n",
      "loan_grade\n",
      "A    10777\n",
      "B    10451\n",
      "C     6458\n",
      "D     3626\n",
      "E      964\n",
      "F      241\n",
      "G       64\n",
      "Name: count, dtype: int64\n",
      "cb_person_default_on_file\n",
      "N    26836\n",
      "Y     5745\n",
      "Name: count, dtype: int64\n"
     ]
    }
   ],
   "source": [
    "for col in cat_col:\n",
    "    print(df[col].value_counts())"
   ]
  },
  {
   "cell_type": "code",
   "execution_count": 9,
   "id": "f4099c08-b54e-4f34-bffc-9b72bb741b9d",
   "metadata": {},
   "outputs": [
    {
     "data": {
      "text/plain": [
       "['person_age',\n",
       " 'person_income',\n",
       " 'person_emp_length',\n",
       " 'loan_amnt',\n",
       " 'loan_int_rate',\n",
       " 'loan_status',\n",
       " 'loan_percent_income',\n",
       " 'cb_person_cred_hist_length']"
      ]
     },
     "execution_count": 9,
     "metadata": {},
     "output_type": "execute_result"
    }
   ],
   "source": [
    "num_cols = [col for col in df.select_dtypes(include=['number'])]\n",
    "num_cols"
   ]
  },
  {
   "cell_type": "code",
   "execution_count": 10,
   "id": "4572df15-4421-4e89-b467-626a17598ba9",
   "metadata": {},
   "outputs": [
    {
     "data": {
      "text/plain": [
       "person_age                       0\n",
       "person_income                    0\n",
       "person_home_ownership            0\n",
       "person_emp_length              895\n",
       "loan_intent                      0\n",
       "loan_grade                       0\n",
       "loan_amnt                        0\n",
       "loan_int_rate                 3116\n",
       "loan_status                      0\n",
       "loan_percent_income              0\n",
       "cb_person_default_on_file        0\n",
       "cb_person_cred_hist_length       0\n",
       "dtype: int64"
      ]
     },
     "execution_count": 10,
     "metadata": {},
     "output_type": "execute_result"
    }
   ],
   "source": [
    "df.isnull().sum()"
   ]
  },
  {
   "cell_type": "code",
   "execution_count": 11,
   "id": "63d40080-b3c2-4070-90cb-ae3485e91b40",
   "metadata": {},
   "outputs": [
    {
     "data": {
      "text/plain": [
       "person_age                    0.00\n",
       "person_income                 0.00\n",
       "person_home_ownership         0.00\n",
       "person_emp_length             2.75\n",
       "loan_intent                   0.00\n",
       "loan_grade                    0.00\n",
       "loan_amnt                     0.00\n",
       "loan_int_rate                 9.56\n",
       "loan_status                   0.00\n",
       "loan_percent_income           0.00\n",
       "cb_person_default_on_file     0.00\n",
       "cb_person_cred_hist_length    0.00\n",
       "dtype: float64"
      ]
     },
     "execution_count": 11,
     "metadata": {},
     "output_type": "execute_result"
    }
   ],
   "source": [
    "round((df.isnull().sum()/df.shape[0]*100),2)"
   ]
  },
  {
   "cell_type": "code",
   "execution_count": 12,
   "id": "ea661e53-628a-4ffc-9ca0-e8426ab6cfdb",
   "metadata": {},
   "outputs": [
    {
     "data": {
      "text/plain": [
       "person_age                       0\n",
       "person_income                    0\n",
       "person_home_ownership            0\n",
       "person_emp_length              895\n",
       "loan_intent                      0\n",
       "loan_grade                       0\n",
       "loan_amnt                        0\n",
       "loan_int_rate                 3116\n",
       "loan_status                      0\n",
       "loan_percent_income              0\n",
       "cb_person_default_on_file        0\n",
       "cb_person_cred_hist_length       0\n",
       "dtype: int64"
      ]
     },
     "execution_count": 12,
     "metadata": {},
     "output_type": "execute_result"
    }
   ],
   "source": [
    "df1 = df['person_emp_length']\n",
    "ser = df1.isna()\n",
    "ind=[]\n",
    "'''for idx,res in enumerate(ser):\n",
    "    if res == True:\n",
    "        ind.append(ser.index[idx])'''\n",
    "#drop rows containing nan values\n",
    "df1.dropna(how='any')\n",
    "df1.isna().sum()\n",
    "df['person_emp_length'] = df1\n",
    "df.isna().sum()"
   ]
  },
  {
   "cell_type": "code",
   "execution_count": 13,
   "id": "09cd108b-e308-49be-a6bb-a46336bcd3d8",
   "metadata": {},
   "outputs": [
    {
     "data": {
      "text/plain": [
       "person_age                       0\n",
       "person_income                    0\n",
       "person_home_ownership            0\n",
       "person_emp_length                0\n",
       "loan_intent                      0\n",
       "loan_grade                       0\n",
       "loan_amnt                        0\n",
       "loan_int_rate                 3048\n",
       "loan_status                      0\n",
       "loan_percent_income              0\n",
       "cb_person_default_on_file        0\n",
       "cb_person_cred_hist_length       0\n",
       "dtype: int64"
      ]
     },
     "execution_count": 13,
     "metadata": {},
     "output_type": "execute_result"
    }
   ],
   "source": [
    "'''df['person_emp_length'] = df['person_emp_length'].dropna()\n",
    "df.reset_index(drop=True,inplace=True)\n",
    "df.isna().sum()'''\n",
    "df.dropna(subset=['person_emp_length'],inplace=True)\n",
    "df.isna().sum()"
   ]
  },
  {
   "cell_type": "code",
   "execution_count": 14,
   "id": "18d340a2-a351-40f8-aedb-b3c0752690c4",
   "metadata": {},
   "outputs": [
    {
     "name": "stderr",
     "output_type": "stream",
     "text": [
      "/tmp/ipykernel_4861/4146942316.py:1: UserWarning: \n",
      "\n",
      "`distplot` is a deprecated function and will be removed in seaborn v0.14.0.\n",
      "\n",
      "Please adapt your code to use either `displot` (a figure-level function with\n",
      "similar flexibility) or `histplot` (an axes-level function for histograms).\n",
      "\n",
      "For a guide to updating your code to use the new functions, please see\n",
      "https://gist.github.com/mwaskom/de44147ed2974457ad6372750bbe5751\n",
      "\n",
      "  sns.distplot(df['person_emp_length'],kde=True,color='blue',bins=50)\n"
     ]
    },
    {
     "data": {
      "text/plain": [
       "<Axes: xlabel='person_emp_length', ylabel='Density'>"
      ]
     },
     "execution_count": 14,
     "metadata": {},
     "output_type": "execute_result"
    },
    {
     "data": {
      "image/png": "[encoded data removed]",
      "text/plain": [
       "<Figure size 640x480 with 1 Axes>"
      ]
     },
     "metadata": {},
     "output_type": "display_data"
    }
   ],
   "source": [
    "sns.distplot(df['person_emp_length'],kde=True,color='blue',bins=50)"
   ]
  },
  {
   "cell_type": "code",
   "execution_count": 15,
   "id": "3608b2f1-d25b-4c53-970b-e71dc6c89934",
   "metadata": {},
   "outputs": [],
   "source": [
    "df.fillna(df['person_emp_length'].median(),inplace=True)"
   ]
  },
  {
   "cell_type": "code",
   "execution_count": 16,
   "id": "d05d1ce9-ebef-48d5-a053-6e9cf835805c",
   "metadata": {},
   "outputs": [
    {
     "data": {
      "text/plain": [
       "person_age                    0\n",
       "person_income                 0\n",
       "person_home_ownership         0\n",
       "person_emp_length             0\n",
       "loan_intent                   0\n",
       "loan_grade                    0\n",
       "loan_amnt                     0\n",
       "loan_int_rate                 0\n",
       "loan_status                   0\n",
       "loan_percent_income           0\n",
       "cb_person_default_on_file     0\n",
       "cb_person_cred_hist_length    0\n",
       "dtype: int64"
      ]
     },
     "execution_count": 16,
     "metadata": {},
     "output_type": "execute_result"
    }
   ],
   "source": [
    "df.isna().sum()"
   ]
  },
  {
   "cell_type": "code",
   "execution_count": 13,
   "id": "55e81af2-7366-4e48-a9ec-08f4c80c2c71",
   "metadata": {},
   "outputs": [
    {
     "name": "stderr",
     "output_type": "stream",
     "text": [
      "/tmp/ipykernel_2369/2046825581.py:4: UserWarning: \n",
      "\n",
      "`distplot` is a deprecated function and will be removed in seaborn v0.14.0.\n",
      "\n",
      "Please adapt your code to use either `displot` (a figure-level function with\n",
      "similar flexibility) or `histplot` (an axes-level function for histograms).\n",
      "\n",
      "For a guide to updating your code to use the new functions, please see\n",
      "https://gist.github.com/mwaskom/de44147ed2974457ad6372750bbe5751\n",
      "\n",
      "  sns.distplot(df['loan_amnt'])\n"
     ]
    },
    {
     "data": {
      "text/plain": [
       "<Axes: xlabel='loan_amnt', ylabel='Density'>"
      ]
     },
     "execution_count": 13,
     "metadata": {},
     "output_type": "execute_result"
    },
    {
     "data": {
      "image/png": "[encoded data removed]",
      "text/plain": [
       "<Figure size 640x480 with 1 Axes>"
      ]
     },
     "metadata": {},
     "output_type": "display_data"
    }
   ],
   "source": [
    "#sns.boxplot(y=df['loan_amnt'],x=df['loan_grade'])\n",
    "#sns.boxplot(y=df['loan_amnt'],x=df['loan_status'])\n",
    "df_loanstatus1 = df[df['loan_status'] == 1]\n",
    "sns.distplot(df['loan_amnt'])\n",
    "#plt.scatter(df['person_age'],df['person_income'])\n",
    "#plt.xlabel('Age')\n",
    "#plt.ylabel('Income')"
   ]
  },
  {
   "cell_type": "code",
   "execution_count": 18,
   "id": "acc35494-f29d-452c-b092-7c3792535db2",
   "metadata": {},
   "outputs": [
    {
     "data": {
      "text/plain": [
       "Text(0, 0.5, 'loan amount')"
      ]
     },
     "execution_count": 18,
     "metadata": {},
     "output_type": "execute_result"
    },
    {
     "data": {
      "image/png": "[encoded data removed]",
      "text/plain": [
       "<Figure size 640x480 with 1 Axes>"
      ]
     },
     "metadata": {},
     "output_type": "display_data"
    }
   ],
   "source": [
    "'''plt.scatter(df['loan_amnt'],df['person_income'])\n",
    "plt.xlabel('loan amount')\n",
    "plt.ylabel('person income')'''\n",
    "df1 = df.iloc[0:500]\n",
    "plt.scatter(df1['person_income'],df1['loan_amnt'])\n",
    "plt.xlabel('person income')\n",
    "plt.ylabel('loan amount')"
   ]
  },
  {
   "cell_type": "code",
   "execution_count": 55,
   "id": "0b2aeea4-8e29-4cfd-9785-c4fbd936cd90",
   "metadata": {},
   "outputs": [
    {
     "data": {
      "text/plain": [
       "Text(0, 0.5, 'loan_amnt')"
      ]
     },
     "execution_count": 55,
     "metadata": {},
     "output_type": "execute_result"
    },
    {
     "data": {
      "image/png": "[encoded data removed]",
      "text/plain": [
       "<Figure size 640x480 with 1 Axes>"
      ]
     },
     "metadata": {},
     "output_type": "display_data"
    }
   ],
   "source": [
    "df2 = df.iloc[500:1000]\n",
    "plt.scatter(df2['person_income'],df2['loan_amnt'],)\n",
    "plt.xlabel('person_income')\n",
    "plt.ylabel('loan_amnt')"
   ]
  },
  {
   "cell_type": "code",
   "execution_count": 60,
   "id": "1ada9823-b06d-4bd3-ba1d-e3b787d6f854",
   "metadata": {},
   "outputs": [
    {
     "ename": "KeyError",
     "evalue": "\"None of [Index(['person_home_ownership', 'loan_intent', 'loan_grade',\\n       'cb_person_default_on_file'],\\n      dtype='object')] are in the [columns]\"",
     "output_type": "error",
     "traceback": [
      "\u001b[0;31m---------------------------------------------------------------------------\u001b[0m",
      "\u001b[0;31mKeyError\u001b[0m                                  Traceback (most recent call last)",
      "Cell \u001b[0;32mIn[60], line 1\u001b[0m\n\u001b[0;32m----> 1\u001b[0m encoded_df \u001b[38;5;241m=\u001b[39m \u001b[43mpd\u001b[49m\u001b[38;5;241;43m.\u001b[39;49m\u001b[43mget_dummies\u001b[49m\u001b[43m(\u001b[49m\u001b[43mdf\u001b[49m\u001b[43m,\u001b[49m\u001b[43m \u001b[49m\u001b[43mcolumns\u001b[49m\u001b[38;5;241;43m=\u001b[39;49m\u001b[43m[\u001b[49m\u001b[38;5;124;43m'\u001b[39;49m\u001b[38;5;124;43mperson_home_ownership\u001b[39;49m\u001b[38;5;124;43m'\u001b[39;49m\u001b[43m,\u001b[49m\u001b[43m \u001b[49m\u001b[38;5;124;43m'\u001b[39;49m\u001b[38;5;124;43mloan_intent\u001b[39;49m\u001b[38;5;124;43m'\u001b[39;49m\u001b[43m,\u001b[49m\u001b[43m \u001b[49m\u001b[38;5;124;43m'\u001b[39;49m\u001b[38;5;124;43mloan_grade\u001b[39;49m\u001b[38;5;124;43m'\u001b[39;49m\u001b[43m,\u001b[49m\u001b[43m \u001b[49m\u001b[38;5;124;43m'\u001b[39;49m\u001b[38;5;124;43mcb_person_default_on_file\u001b[39;49m\u001b[38;5;124;43m'\u001b[39;49m\u001b[43m]\u001b[49m\u001b[43m)\u001b[49m\n",
      "File \u001b[0;32m~/mlenv/lib/python3.10/site-packages/pandas/core/reshape/encoding.py:169\u001b[0m, in \u001b[0;36mget_dummies\u001b[0;34m(data, prefix, prefix_sep, dummy_na, columns, sparse, drop_first, dtype)\u001b[0m\n\u001b[1;32m    167\u001b[0m     \u001b[38;5;28;01mraise\u001b[39;00m \u001b[38;5;167;01mTypeError\u001b[39;00m(\u001b[38;5;124m\"\u001b[39m\u001b[38;5;124mInput must be a list-like for parameter `columns`\u001b[39m\u001b[38;5;124m\"\u001b[39m)\n\u001b[1;32m    168\u001b[0m \u001b[38;5;28;01melse\u001b[39;00m:\n\u001b[0;32m--> 169\u001b[0m     data_to_encode \u001b[38;5;241m=\u001b[39m \u001b[43mdata\u001b[49m\u001b[43m[\u001b[49m\u001b[43mcolumns\u001b[49m\u001b[43m]\u001b[49m\n\u001b[1;32m    171\u001b[0m \u001b[38;5;66;03m# validate prefixes and separator to avoid silently dropping cols\u001b[39;00m\n\u001b[1;32m    172\u001b[0m \u001b[38;5;28;01mdef\u001b[39;00m \u001b[38;5;21mcheck_len\u001b[39m(item, name: \u001b[38;5;28mstr\u001b[39m):\n",
      "File \u001b[0;32m~/mlenv/lib/python3.10/site-packages/pandas/core/frame.py:4108\u001b[0m, in \u001b[0;36mDataFrame.__getitem__\u001b[0;34m(self, key)\u001b[0m\n\u001b[1;32m   4106\u001b[0m     \u001b[38;5;28;01mif\u001b[39;00m is_iterator(key):\n\u001b[1;32m   4107\u001b[0m         key \u001b[38;5;241m=\u001b[39m \u001b[38;5;28mlist\u001b[39m(key)\n\u001b[0;32m-> 4108\u001b[0m     indexer \u001b[38;5;241m=\u001b[39m \u001b[38;5;28;43mself\u001b[39;49m\u001b[38;5;241;43m.\u001b[39;49m\u001b[43mcolumns\u001b[49m\u001b[38;5;241;43m.\u001b[39;49m\u001b[43m_get_indexer_strict\u001b[49m\u001b[43m(\u001b[49m\u001b[43mkey\u001b[49m\u001b[43m,\u001b[49m\u001b[43m \u001b[49m\u001b[38;5;124;43m\"\u001b[39;49m\u001b[38;5;124;43mcolumns\u001b[39;49m\u001b[38;5;124;43m\"\u001b[39;49m\u001b[43m)\u001b[49m[\u001b[38;5;241m1\u001b[39m]\n\u001b[1;32m   4110\u001b[0m \u001b[38;5;66;03m# take() does not accept boolean indexers\u001b[39;00m\n\u001b[1;32m   4111\u001b[0m \u001b[38;5;28;01mif\u001b[39;00m \u001b[38;5;28mgetattr\u001b[39m(indexer, \u001b[38;5;124m\"\u001b[39m\u001b[38;5;124mdtype\u001b[39m\u001b[38;5;124m\"\u001b[39m, \u001b[38;5;28;01mNone\u001b[39;00m) \u001b[38;5;241m==\u001b[39m \u001b[38;5;28mbool\u001b[39m:\n",
      "File \u001b[0;32m~/mlenv/lib/python3.10/site-packages/pandas/core/indexes/base.py:6200\u001b[0m, in \u001b[0;36mIndex._get_indexer_strict\u001b[0;34m(self, key, axis_name)\u001b[0m\n\u001b[1;32m   6197\u001b[0m \u001b[38;5;28;01melse\u001b[39;00m:\n\u001b[1;32m   6198\u001b[0m     keyarr, indexer, new_indexer \u001b[38;5;241m=\u001b[39m \u001b[38;5;28mself\u001b[39m\u001b[38;5;241m.\u001b[39m_reindex_non_unique(keyarr)\n\u001b[0;32m-> 6200\u001b[0m \u001b[38;5;28;43mself\u001b[39;49m\u001b[38;5;241;43m.\u001b[39;49m\u001b[43m_raise_if_missing\u001b[49m\u001b[43m(\u001b[49m\u001b[43mkeyarr\u001b[49m\u001b[43m,\u001b[49m\u001b[43m \u001b[49m\u001b[43mindexer\u001b[49m\u001b[43m,\u001b[49m\u001b[43m \u001b[49m\u001b[43maxis_name\u001b[49m\u001b[43m)\u001b[49m\n\u001b[1;32m   6202\u001b[0m keyarr \u001b[38;5;241m=\u001b[39m \u001b[38;5;28mself\u001b[39m\u001b[38;5;241m.\u001b[39mtake(indexer)\n\u001b[1;32m   6203\u001b[0m \u001b[38;5;28;01mif\u001b[39;00m \u001b[38;5;28misinstance\u001b[39m(key, Index):\n\u001b[1;32m   6204\u001b[0m     \u001b[38;5;66;03m# GH 42790 - Preserve name from an Index\u001b[39;00m\n",
      "File \u001b[0;32m~/mlenv/lib/python3.10/site-packages/pandas/core/indexes/base.py:6249\u001b[0m, in \u001b[0;36mIndex._raise_if_missing\u001b[0;34m(self, key, indexer, axis_name)\u001b[0m\n\u001b[1;32m   6247\u001b[0m \u001b[38;5;28;01mif\u001b[39;00m nmissing:\n\u001b[1;32m   6248\u001b[0m     \u001b[38;5;28;01mif\u001b[39;00m nmissing \u001b[38;5;241m==\u001b[39m \u001b[38;5;28mlen\u001b[39m(indexer):\n\u001b[0;32m-> 6249\u001b[0m         \u001b[38;5;28;01mraise\u001b[39;00m \u001b[38;5;167;01mKeyError\u001b[39;00m(\u001b[38;5;124mf\u001b[39m\u001b[38;5;124m\"\u001b[39m\u001b[38;5;124mNone of [\u001b[39m\u001b[38;5;132;01m{\u001b[39;00mkey\u001b[38;5;132;01m}\u001b[39;00m\u001b[38;5;124m] are in the [\u001b[39m\u001b[38;5;132;01m{\u001b[39;00maxis_name\u001b[38;5;132;01m}\u001b[39;00m\u001b[38;5;124m]\u001b[39m\u001b[38;5;124m\"\u001b[39m)\n\u001b[1;32m   6251\u001b[0m     not_found \u001b[38;5;241m=\u001b[39m \u001b[38;5;28mlist\u001b[39m(ensure_index(key)[missing_mask\u001b[38;5;241m.\u001b[39mnonzero()[\u001b[38;5;241m0\u001b[39m]]\u001b[38;5;241m.\u001b[39munique())\n\u001b[1;32m   6252\u001b[0m     \u001b[38;5;28;01mraise\u001b[39;00m \u001b[38;5;167;01mKeyError\u001b[39;00m(\u001b[38;5;124mf\u001b[39m\u001b[38;5;124m\"\u001b[39m\u001b[38;5;132;01m{\u001b[39;00mnot_found\u001b[38;5;132;01m}\u001b[39;00m\u001b[38;5;124m not in index\u001b[39m\u001b[38;5;124m\"\u001b[39m)\n",
      "\u001b[0;31mKeyError\u001b[0m: \"None of [Index(['person_home_ownership', 'loan_intent', 'loan_grade',\\n       'cb_person_default_on_file'],\\n      dtype='object')] are in the [columns]\""
     ]
    }
   ],
   "source": [
    "encoded_df = pd.get_dummies(df, columns=['person_home_ownership', 'loan_intent', 'loan_grade', 'cb_person_default_on_file'])"
   ]
  },
  {
   "cell_type": "code",
   "execution_count": 79,
   "id": "b9cb2b0e-af45-465c-968c-5edb390b4aa1",
   "metadata": {},
   "outputs": [
    {
     "data": {
      "text/html": [
       "<div>\n",
       "<style scoped>\n",
       "    .dataframe tbody tr th:only-of-type {\n",
       "        vertical-align: middle;\n",
       "    }\n",
       "\n",
       "    .dataframe tbody tr th {\n",
       "        vertical-align: top;\n",
       "    }\n",
       "\n",
       "    .dataframe thead th {\n",
       "        text-align: right;\n",
       "    }\n",
       "</style>\n",
       "<table border=\"1\" class=\"dataframe\">\n",
       "  <thead>\n",
       "    <tr style=\"text-align: right;\">\n",
       "      <th></th>\n",
       "      <th>person_age</th>\n",
       "      <th>person_income</th>\n",
       "      <th>person_emp_length</th>\n",
       "      <th>loan_amnt</th>\n",
       "      <th>loan_int_rate</th>\n",
       "      <th>loan_status</th>\n",
       "      <th>loan_percent_income</th>\n",
       "      <th>cb_person_cred_hist_length</th>\n",
       "      <th>person_home_ownership_RENT</th>\n",
       "      <th>person_home_ownership_OWN</th>\n",
       "      <th>...</th>\n",
       "      <th>loan_intent_DEBTCONSOLIDATION</th>\n",
       "      <th>loan_grade_D</th>\n",
       "      <th>loan_grade_B</th>\n",
       "      <th>loan_grade_C</th>\n",
       "      <th>loan_grade_A</th>\n",
       "      <th>loan_grade_E</th>\n",
       "      <th>loan_grade_F</th>\n",
       "      <th>loan_grade_G</th>\n",
       "      <th>cb_person_default_on_file_Y</th>\n",
       "      <th>cb_person_default_on_file_N</th>\n",
       "    </tr>\n",
       "  </thead>\n",
       "  <tbody>\n",
       "    <tr>\n",
       "      <th>0</th>\n",
       "      <td>22</td>\n",
       "      <td>59000</td>\n",
       "      <td>123.0</td>\n",
       "      <td>35000</td>\n",
       "      <td>16.02</td>\n",
       "      <td>1</td>\n",
       "      <td>0.59</td>\n",
       "      <td>3</td>\n",
       "      <td>1</td>\n",
       "      <td>0</td>\n",
       "      <td>...</td>\n",
       "      <td>0</td>\n",
       "      <td>1</td>\n",
       "      <td>0</td>\n",
       "      <td>0</td>\n",
       "      <td>0</td>\n",
       "      <td>0</td>\n",
       "      <td>0</td>\n",
       "      <td>0</td>\n",
       "      <td>1</td>\n",
       "      <td>0</td>\n",
       "    </tr>\n",
       "    <tr>\n",
       "      <th>1</th>\n",
       "      <td>21</td>\n",
       "      <td>9600</td>\n",
       "      <td>5.0</td>\n",
       "      <td>1000</td>\n",
       "      <td>11.14</td>\n",
       "      <td>0</td>\n",
       "      <td>0.10</td>\n",
       "      <td>2</td>\n",
       "      <td>0</td>\n",
       "      <td>1</td>\n",
       "      <td>...</td>\n",
       "      <td>0</td>\n",
       "      <td>0</td>\n",
       "      <td>1</td>\n",
       "      <td>0</td>\n",
       "      <td>0</td>\n",
       "      <td>0</td>\n",
       "      <td>0</td>\n",
       "      <td>0</td>\n",
       "      <td>0</td>\n",
       "      <td>1</td>\n",
       "    </tr>\n",
       "    <tr>\n",
       "      <th>2</th>\n",
       "      <td>25</td>\n",
       "      <td>9600</td>\n",
       "      <td>1.0</td>\n",
       "      <td>5500</td>\n",
       "      <td>12.87</td>\n",
       "      <td>1</td>\n",
       "      <td>0.57</td>\n",
       "      <td>3</td>\n",
       "      <td>0</td>\n",
       "      <td>0</td>\n",
       "      <td>...</td>\n",
       "      <td>0</td>\n",
       "      <td>0</td>\n",
       "      <td>0</td>\n",
       "      <td>1</td>\n",
       "      <td>0</td>\n",
       "      <td>0</td>\n",
       "      <td>0</td>\n",
       "      <td>0</td>\n",
       "      <td>0</td>\n",
       "      <td>1</td>\n",
       "    </tr>\n",
       "    <tr>\n",
       "      <th>3</th>\n",
       "      <td>23</td>\n",
       "      <td>65500</td>\n",
       "      <td>4.0</td>\n",
       "      <td>35000</td>\n",
       "      <td>15.23</td>\n",
       "      <td>1</td>\n",
       "      <td>0.53</td>\n",
       "      <td>2</td>\n",
       "      <td>1</td>\n",
       "      <td>0</td>\n",
       "      <td>...</td>\n",
       "      <td>0</td>\n",
       "      <td>0</td>\n",
       "      <td>0</td>\n",
       "      <td>1</td>\n",
       "      <td>0</td>\n",
       "      <td>0</td>\n",
       "      <td>0</td>\n",
       "      <td>0</td>\n",
       "      <td>0</td>\n",
       "      <td>1</td>\n",
       "    </tr>\n",
       "    <tr>\n",
       "      <th>4</th>\n",
       "      <td>24</td>\n",
       "      <td>54400</td>\n",
       "      <td>8.0</td>\n",
       "      <td>35000</td>\n",
       "      <td>14.27</td>\n",
       "      <td>1</td>\n",
       "      <td>0.55</td>\n",
       "      <td>4</td>\n",
       "      <td>1</td>\n",
       "      <td>0</td>\n",
       "      <td>...</td>\n",
       "      <td>0</td>\n",
       "      <td>0</td>\n",
       "      <td>0</td>\n",
       "      <td>1</td>\n",
       "      <td>0</td>\n",
       "      <td>0</td>\n",
       "      <td>0</td>\n",
       "      <td>0</td>\n",
       "      <td>1</td>\n",
       "      <td>0</td>\n",
       "    </tr>\n",
       "  </tbody>\n",
       "</table>\n",
       "<p>5 rows × 27 columns</p>\n",
       "</div>"
      ],
      "text/plain": [
       "   person_age  person_income  person_emp_length  loan_amnt  loan_int_rate  \\\n",
       "0          22          59000              123.0      35000          16.02   \n",
       "1          21           9600                5.0       1000          11.14   \n",
       "2          25           9600                1.0       5500          12.87   \n",
       "3          23          65500                4.0      35000          15.23   \n",
       "4          24          54400                8.0      35000          14.27   \n",
       "\n",
       "   loan_status  loan_percent_income  cb_person_cred_hist_length  \\\n",
       "0            1                 0.59                           3   \n",
       "1            0                 0.10                           2   \n",
       "2            1                 0.57                           3   \n",
       "3            1                 0.53                           2   \n",
       "4            1                 0.55                           4   \n",
       "\n",
       "   person_home_ownership_RENT  person_home_ownership_OWN  ...  \\\n",
       "0                           1                          0  ...   \n",
       "1                           0                          1  ...   \n",
       "2                           0                          0  ...   \n",
       "3                           1                          0  ...   \n",
       "4                           1                          0  ...   \n",
       "\n",
       "   loan_intent_DEBTCONSOLIDATION  loan_grade_D  loan_grade_B  loan_grade_C  \\\n",
       "0                              0             1             0             0   \n",
       "1                              0             0             1             0   \n",
       "2                              0             0             0             1   \n",
       "3                              0             0             0             1   \n",
       "4                              0             0             0             1   \n",
       "\n",
       "   loan_grade_A  loan_grade_E  loan_grade_F  loan_grade_G  \\\n",
       "0             0             0             0             0   \n",
       "1             0             0             0             0   \n",
       "2             0             0             0             0   \n",
       "3             0             0             0             0   \n",
       "4             0             0             0             0   \n",
       "\n",
       "   cb_person_default_on_file_Y  cb_person_default_on_file_N  \n",
       "0                            1                            0  \n",
       "1                            0                            1  \n",
       "2                            0                            1  \n",
       "3                            0                            1  \n",
       "4                            1                            0  \n",
       "\n",
       "[5 rows x 27 columns]"
      ]
     },
     "execution_count": 79,
     "metadata": {},
     "output_type": "execute_result"
    }
   ],
   "source": [
    "def one_hot_encode(df,categorical_columns):\n",
    "    for col in categorical_columns:\n",
    "        unique_values = df[col].unique()\n",
    "        for unique_value in unique_values:\n",
    "            print(unique_value)\n",
    "            new_col_name = f'{col}_{unique_value}'\n",
    "            df[new_col_name] = (df[col] == unique_value).astype(int)\n",
    "        df.drop(columns=col,inplace=True)\n",
    "    return df\n",
    "cat_col = [col for col in df.columns if df[col].dtype =='object']\n",
    "df_new = one_hot_encode(df,cat_col)\n",
    "df_new.head()\n",
    "#df_new.columns"
   ]
  },
  {
   "cell_type": "code",
   "execution_count": 30,
   "id": "f0c3eda7-b20c-4a5f-aeac-e7e2c0a6666b",
   "metadata": {},
   "outputs": [
    {
     "data": {
      "image/png": "[encoded data removed]",
      "text/plain": [
       "<Figure size 640x480 with 1 Axes>"
      ]
     },
     "metadata": {},
     "output_type": "display_data"
    },
    {
     "data": {
      "text/plain": [
       "<Figure size 700000x5000 with 0 Axes>"
      ]
     },
     "metadata": {},
     "output_type": "display_data"
    }
   ],
   "source": [
    "labels = ['0-5k','5k-10k','10k-15k','15k-20k','20k-25k','25k-30k','30k-35k']\n",
    "bins = [0,1000,2000,3000,4000,5000,6000,7000]\n",
    "df['loan_amt_binned'] = pd.cut(df['loan_amnt'],bins=bins,labels=labels,include_lowest=True)\n",
    "#bivariate distr\n",
    "sns.countplot(data=df,x='loan_intent',hue='loan_amt_binned')\n",
    "plt.figure(figsize=(7000,50))\n",
    "plt.show()"
   ]
  },
  {
   "cell_type": "code",
   "execution_count": 63,
   "id": "a34ad02e-d6a9-4ba3-95a6-c38f238be9ce",
   "metadata": {},
   "outputs": [
    {
     "data": {
      "text/plain": [
       "Index(['person_age', 'person_income', 'person_emp_length', 'loan_amnt',\n",
       "       'loan_int_rate', 'loan_status', 'loan_percent_income',\n",
       "       'cb_person_cred_hist_length', 'person_home_ownership_MORTGAGE',\n",
       "       'person_home_ownership_OTHER', 'person_home_ownership_OWN',\n",
       "       'person_home_ownership_RENT', 'loan_intent_DEBTCONSOLIDATION',\n",
       "       'loan_intent_EDUCATION', 'loan_intent_HOMEIMPROVEMENT',\n",
       "       'loan_intent_MEDICAL', 'loan_intent_PERSONAL', 'loan_intent_VENTURE',\n",
       "       'loan_grade_A', 'loan_grade_B', 'loan_grade_C', 'loan_grade_D',\n",
       "       'loan_grade_E', 'loan_grade_F', 'loan_grade_G',\n",
       "       'cb_person_default_on_file_N', 'cb_person_default_on_file_Y',\n",
       "       'loan_amt_binned'],\n",
       "      dtype='object')"
      ]
     },
     "execution_count": 63,
     "metadata": {},
     "output_type": "execute_result"
    }
   ],
   "source": [
    "encoded_df.columns"
   ]
  },
  {
   "cell_type": "code",
   "execution_count": 18,
   "id": "d9050e58-8659-46b1-8ec5-dfc7d5447308",
   "metadata": {},
   "outputs": [
    {
     "name": "stderr",
     "output_type": "stream",
     "text": [
      "/tmp/ipykernel_718/3114422480.py:2: UserWarning: \n",
      "\n",
      "`distplot` is a deprecated function and will be removed in seaborn v0.14.0.\n",
      "\n",
      "Please adapt your code to use either `displot` (a figure-level function with\n",
      "similar flexibility) or `histplot` (an axes-level function for histograms).\n",
      "\n",
      "For a guide to updating your code to use the new functions, please see\n",
      "https://gist.github.com/mwaskom/de44147ed2974457ad6372750bbe5751\n",
      "\n",
      "  sns.distplot(df['person_age'])\n"
     ]
    },
    {
     "data": {
      "image/png": "[encoded data removed]",
      "text/plain": [
       "<Figure size 640x480 with 1 Axes>"
      ]
     },
     "metadata": {},
     "output_type": "display_data"
    }
   ],
   "source": [
    "#distribution of age\n",
    "sns.distplot(df['person_age'])\n",
    "plt.show()"
   ]
  },
  {
   "cell_type": "code",
   "execution_count": 28,
   "id": "885d989e-661c-4657-b6f8-bb3d5bb9ea41",
   "metadata": {},
   "outputs": [
    {
     "data": {
      "text/plain": [
       "count    3.258100e+04\n",
       "mean     6.607485e+04\n",
       "std      6.198312e+04\n",
       "min      4.000000e+03\n",
       "25%      3.850000e+04\n",
       "50%      5.500000e+04\n",
       "75%      7.920000e+04\n",
       "max      6.000000e+06\n",
       "Name: person_income, dtype: float64"
      ]
     },
     "execution_count": 28,
     "metadata": {},
     "output_type": "execute_result"
    }
   ],
   "source": [
    "df['person_income'].describe()\n",
    "#sns.barplot(x=df['person_age'],y=df['person_income'],hue=df['cb_person_default_on_file'])\n",
    "#plt.xticks(rotation=45)\n",
    "#plt.show()"
   ]
  },
  {
   "cell_type": "code",
   "execution_count": 19,
   "id": "1d7c064b-8561-45ab-8129-9553784c7e30",
   "metadata": {},
   "outputs": [],
   "source": [
    "bins = [0,50000,100000,150000,200000,250000,300000,350000,400000,450000,500000,550000,600000,650000,700000]\n",
    "labels = ['0-50k','50k-100k','100k-150k','150k-200k','200k-250k','250k-300k','300k-350k','350k-400k','400-450k',\n",
    "          '450k-500k','500k-550k','550k-600k','600k-650k','650k-700k']\n",
    "df_income = pd.cut(df['person_income'],bins=bins,labels=labels)\n"
   ]
  },
  {
   "cell_type": "code",
   "execution_count": 56,
   "id": "2759b8a1-92e4-4f00-8d21-ebd1b193d981",
   "metadata": {},
   "outputs": [
    {
     "name": "stdout",
     "output_type": "stream",
     "text": [
      "Dimensions of original X training data (800, 2)\n",
      "Dimensions of original X testing data (200, 2)\n",
      "(800, 9)\n",
      "(200, 9)\n"
     ]
    }
   ],
   "source": [
    "batch_data = df.sample(n=1000)\n",
    "#dependent and independent\n",
    "X = batch_data[['loan_grade','cb_person_default_on_file']].values\n",
    "Y = batch_data['loan_status'].values\n",
    "#split train test data\n",
    "X_train,X_test,Y_train,Y_test = train_test_split(X,Y,test_size=0.20,random_state=0,shuffle=True)\n",
    "print(\"Dimensions of original X training data {}\".format(X_train.shape))\n",
    "print(\"Dimensions of original X testing data {}\".format(X_test.shape))\n",
    "from sklearn.preprocessing import OneHotEncoder\n",
    "#create OneHotEncoder object\n",
    "ohe = OneHotEncoder() \n",
    "X_train_new = ohe.fit_transform(X_train).toarray()\n",
    "X_test_new = ohe.fit_transform(X_test).toarray()\n",
    "print(X_train_new.shape)\n",
    "print(X_test_new.shape)\n",
    "X_train_subset0=[]\n",
    "counter=0\n",
    "for i in range(len(X_train_new)):\n",
    "    if(X_train_new[i][X_train_new.shape[1]-1] == 0):\n",
    "        counter = counter+1\n",
    "        if counter == 6:\n",
    "            break\n",
    "        subset=[]\n",
    "        for j in range(X_train_new.shape[1]):\n",
    "            subset.append(X_train_new[i][j])\n",
    "        X_train_subset0.append(subset)\n",
    "#print(X_train_subset0)\n",
    "X_train_subset1=[]\n",
    "counter=0\n",
    "for i in range(len(X_train_new)):\n",
    "    if(X_train_new[i][X_train_new.shape[1]-1] == 1):\n",
    "        counter = counter+1\n",
    "        if counter == 6:\n",
    "            break\n",
    "        subset=[]\n",
    "        for j in range(X_train_new.shape[1]):\n",
    "            subset.append(X_train_new[i][j])\n",
    "        X_train_subset1.append(subset)\n",
    "#print(X_train_subset1)\n",
    "#print(X_train_subset0)\n",
    "X_train_subset = np.vstack((X_train_subset0,X_train_subset1))\n",
    "#X_train_subset = X_train_subset[:,0:8]\n",
    "\n",
    "X_test_subset0=[]\n",
    "counter=0\n",
    "for i in range(len(X_test_new)):\n",
    "    if(X_test_new[i][X_test_new.shape[1]-1] == 0):\n",
    "        counter = counter+1\n",
    "        if counter == 6:\n",
    "            break\n",
    "        subset=[]\n",
    "        for j in range(X_test_new.shape[1]):\n",
    "            subset.append(X_test_new[i][j])\n",
    "        X_test_subset0.append(subset)\n",
    "X_test_subset1=[]\n",
    "counter=0\n",
    "for i in range(len(X_test_new)):\n",
    "    if(X_test_new[i][X_test_new.shape[1]-1] == 0):\n",
    "        counter = counter+1\n",
    "        if counter == 6:\n",
    "            break\n",
    "        subset=[]\n",
    "        for j in range(X_test_new.shape[1]):\n",
    "            subset.append(X_test_new[i][j])\n",
    "        X_test_subset1.append(subset)\n",
    "X_test_subset = np.vstack((X_test_subset0,X_test_subset1))\n",
    "#print(X_test_subset.shape)\n",
    "\n",
    "Y_train_subset0=[]\n",
    "counter=0\n",
    "for i in range(len(Y_train)):\n",
    "    if(Y_train[i] == 0):\n",
    "        counter = counter+1\n",
    "        if counter == 6:\n",
    "            break\n",
    "        Y_train_subset0.append(Y_train[i])\n",
    "#print(Y_train_subset0)\n",
    "Y_train_subset1=[]\n",
    "counter=0\n",
    "for i in range(len(Y_train)):\n",
    "    if(Y_train[i] == 1):\n",
    "        counter = counter+1\n",
    "        if counter == 6:\n",
    "            break\n",
    "        Y_train_subset1.append(Y_train[i])\n",
    "Y_train_subset = np.vstack((Y_train_subset0,Y_train_subset1)).reshape(-1,1)\n",
    "\n",
    "clf = DecisionTreeClassifier(random_state=1)\n",
    "#train model on subsets of class label 0 and class label 1\n",
    "clf.fit(X_train_subset,Y_train_subset)\n",
    "loan_status = clf.predict(X_test_subset)\n",
    "#print(X_test_subset.shape)\n",
    "#when loan_grad is A is loan_status 0\n",
    "#X_new_data = np.array([1.,0.,0.,0.,0.,0.,0.,0.,1.]).reshape(-1,1)\n",
    "#loan_status_new_data = clf.predict(X_new_data)\n",
    "#print(loan_status_new_data)\n",
    "#from sklearn.metrics import accuracy_score\n",
    "#print('Model with prediction accuracy: {0:0.4f}'.format(accuracy_score(Y_test,y_pred)))"
   ]
  },
  {
   "cell_type": "code",
   "execution_count": 55,
   "id": "da1feb0c-1d47-478d-accc-c5af7541e00c",
   "metadata": {},
   "outputs": [
    {
     "data": {
      "text/plain": [
       "[Text(0.7205882352941176, 0.9375, 'loan_grade_D <= 0.5\\ngini = 0.347\\nsamples = 800\\nvalue = [621, 179]\\nclass = 0'),\n",
       " Text(0.5588235294117647, 0.8125, 'loan_grade_E <= 0.5\\ngini = 0.301\\nsamples = 709\\nvalue = [578, 131]\\nclass = 0'),\n",
       " Text(0.6397058823529411, 0.875, 'True  '),\n",
       " Text(0.4117647058823529, 0.6875, 'loan_grade_F <= 0.5\\ngini = 0.28\\nsamples = 688\\nvalue = [572, 116]\\nclass = 0'),\n",
       " Text(0.29411764705882354, 0.5625, 'loan_grade_G <= 0.5\\ngini = 0.274\\nsamples = 683\\nvalue = [571, 112]\\nclass = 0'),\n",
       " Text(0.23529411764705882, 0.4375, 'loan_grade_A <= 0.5\\ngini = 0.271\\nsamples = 681\\nvalue = [571, 110]\\nclass = 0'),\n",
       " Text(0.17647058823529413, 0.3125, 'loan_grade_B <= 0.5\\ngini = 0.305\\nsamples = 404\\nvalue = [328, 76]\\nclass = 0'),\n",
       " Text(0.11764705882352941, 0.1875, 'cb_person_default_on_file_N <= 0.5\\ngini = 0.341\\nsamples = 165\\nvalue = [129, 36]\\nclass = 0'),\n",
       " Text(0.058823529411764705, 0.0625, 'gini = 0.323\\nsamples = 69\\nvalue = [55, 14]\\nclass = 0'),\n",
       " Text(0.17647058823529413, 0.0625, 'gini = 0.353\\nsamples = 96\\nvalue = [74, 22]\\nclass = 0'),\n",
       " Text(0.23529411764705882, 0.1875, 'gini = 0.279\\nsamples = 239\\nvalue = [199, 40]\\nclass = 0'),\n",
       " Text(0.29411764705882354, 0.3125, 'gini = 0.215\\nsamples = 277\\nvalue = [243, 34]\\nclass = 0'),\n",
       " Text(0.35294117647058826, 0.4375, 'gini = 0.0\\nsamples = 2\\nvalue = [0, 2]\\nclass = 1'),\n",
       " Text(0.5294117647058824, 0.5625, 'cb_person_Default_on_file_Y <= 0.5\\ngini = 0.32\\nsamples = 5\\nvalue = [1, 4]\\nclass = 1'),\n",
       " Text(0.47058823529411764, 0.4375, 'gini = 0.0\\nsamples = 3\\nvalue = [0, 3]\\nclass = 1'),\n",
       " Text(0.5882352941176471, 0.4375, 'gini = 0.5\\nsamples = 2\\nvalue = [1, 1]\\nclass = 0'),\n",
       " Text(0.7058823529411765, 0.6875, 'cb_person_default_on_file_N <= 0.5\\ngini = 0.408\\nsamples = 21\\nvalue = [6, 15]\\nclass = 1'),\n",
       " Text(0.6470588235294118, 0.5625, 'gini = 0.48\\nsamples = 10\\nvalue = [4, 6]\\nclass = 1'),\n",
       " Text(0.7647058823529411, 0.5625, 'gini = 0.298\\nsamples = 11\\nvalue = [2, 9]\\nclass = 1'),\n",
       " Text(0.8823529411764706, 0.8125, 'cb_person_Default_on_file_Y <= 0.5\\ngini = 0.498\\nsamples = 91\\nvalue = [43, 48]\\nclass = 1'),\n",
       " Text(0.8014705882352942, 0.875, '  False'),\n",
       " Text(0.8235294117647058, 0.6875, 'gini = 0.495\\nsamples = 49\\nvalue = [22.0, 27.0]\\nclass = 1'),\n",
       " Text(0.9411764705882353, 0.6875, 'gini = 0.5\\nsamples = 42\\nvalue = [21, 21]\\nclass = 0')]"
      ]
     },
     "execution_count": 55,
     "metadata": {},
     "output_type": "execute_result"
    },
    {
     "data": {
      "image/png": "[encoded data removed]",
      "text/plain": [
       "<Figure size 640x480 with 1 Axes>"
      ]
     },
     "metadata": {},
     "output_type": "display_data"
    }
   ],
   "source": [
    "from sklearn.preprocessing import OneHotEncoder\n",
    "#create OneHotEncoder object\n",
    "ohe = OneHotEncoder() \n",
    "#encoding categorical variables by fit and transform\n",
    "X_train_new = ohe.fit_transform(X_train[:,0:2]).toarray()\n",
    "X_test_new = ohe.fit_transform(X_test[:,0:2]).toarray()\n",
    "#encoding categorical variables by fit and transform\n",
    "X_train_new = ohe.fit_transform(X_train[:,0:2]).toarray()\n",
    "X_test_new = ohe.fit_transform(X_test[:,0:2]).toarray()\n",
    "#print(X_train_new.shape)\n",
    "#print(X_test_new.shape)\n",
    "#print(X_test_new[0])\n",
    "#print(Y_test[0])\n",
    "#X_train_n = X_train_new[0:50,:]\n",
    "#Y_train_n = Y_train[5:10].reshape(-1,1)\n",
    "#train model on loan_grade,cb_person_default_on_file\n",
    "clf = DecisionTreeClassifier(random_state=1)\n",
    "clf.fit(X_train_new,Y_train)\n",
    "from sklearn.tree import plot_tree\n",
    "plot_tree(clf,feature_names=['loan_grade_A','loan_grade_B','loan_grade_C',\n",
    "                             'loan_grade_D','loan_grade_E','loan_grade_F',\n",
    "                            'loan_grade_G','cb_person_Default_on_file_Y','cb_person_default_on_file_N'],class_names=['0','1'],filled=True)\n",
    "\n",
    "#predict loan_status\n",
    "#y_pred = clf.predict(X_test_new[0])\n",
    "#print(y_pred)\n",
    "\n",
    "\n",
    "#X_new = [[0., 0., 0., 0., 1., 0., 0., 1., 0.]]\n",
    "#y_pred_new = clf.predict(X_new)\n",
    "#print(y_pred_new)"
   ]
  },
  {
   "cell_type": "code",
   "execution_count": null,
   "id": "cd405813-ef97-4c74-844d-7357a824eba7",
   "metadata": {},
   "outputs": [],
   "source": []
  }
 ],
 "metadata": {
  "kernelspec": {
   "display_name": "Python 3 (ipykernel)",
   "language": "python",
   "name": "python3"
  },
  "language_info": {
   "codemirror_mode": {
    "name": "ipython",
    "version": 3
   },
   "file_extension": ".py",
   "mimetype": "text/x-python",
   "name": "python",
   "nbconvert_exporter": "python",
   "pygments_lexer": "ipython3",
   "version": "3.10.12"
  }
 },
 "nbformat": 4,
 "nbformat_minor": 5
}
